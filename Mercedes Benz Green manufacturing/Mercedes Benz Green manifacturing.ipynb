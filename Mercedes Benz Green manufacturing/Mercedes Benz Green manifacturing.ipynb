{
 "cells": [
  {
   "cell_type": "markdown",
   "id": "60ef6971",
   "metadata": {},
   "source": [
    "#Mercedes-Benz Greener Manufacturing\n",
    "\n",
    "DESCRIPTION\n",
    "\n",
    "Reduce the time a Mercedes-Benz spends on the test bench.\n",
    "\n",
    "Problem Statement Scenario:\n",
    "Since the first automobile, the Benz Patent Motor Car in 1886, Mercedes-Benz has stood for important automotive innovations. These include the passenger safety cell with a crumple zone, the airbag, and intelligent assistance systems. Mercedes-Benz applies for nearly 2000 patents per year, making the brand the European leader among premium carmakers. Mercedes-Benz is the leader in the premium car industry. With a huge selection of features and options, customers can choose the customized Mercedes-Benz of their dreams.\n",
    "\n",
    "To ensure the safety and reliability of every unique car configuration before they hit the road, the company’s engineers have developed a robust testing system. As one of the world’s biggest manufacturers of premium cars, safety and efficiency are paramount on Mercedes-Benz’s production lines. However, optimizing the speed of their testing system for many possible feature combinations is complex and time-consuming without a powerful algorithmic approach.\n",
    "\n",
    "You are required to reduce the time that cars spend on the test bench. Others will work with a dataset representing different permutations of features in a Mercedes-Benz car to predict the time it takes to pass testing. Optimal algorithms will contribute to faster testing, resulting in lower carbon dioxide emissions without reducing Mercedes-Benz’s standards.\n",
    "\n",
    "Following actions should be performed:\n",
    "\n",
    "If for any column(s), the variance is equal to zero, then you need to remove those variable(s).\n",
    "Check for null and unique values for test and train sets.\n",
    "Apply label encoder.\n",
    "Perform dimensionality reduction.\n",
    "Predict your test_df values using XGBoost.\n"
   ]
  },
  {
   "cell_type": "markdown",
   "id": "3f64c21a",
   "metadata": {},
   "source": [
    "Import training and test data"
   ]
  },
  {
   "cell_type": "code",
   "execution_count": 1,
   "id": "b803d022",
   "metadata": {},
   "outputs": [],
   "source": [
    "import pandas as pd\n",
    "df=pd.read_csv('train.csv')\n",
    "test_df=pd.read_csv(r'test.csv')"
   ]
  },
  {
   "cell_type": "markdown",
   "id": "6b8663dd",
   "metadata": {},
   "source": [
    "Check the shape of training and test data"
   ]
  },
  {
   "cell_type": "code",
   "execution_count": 2,
   "id": "3c2edf68",
   "metadata": {},
   "outputs": [
    {
     "data": {
      "text/plain": [
       "((4209, 378), (4209, 377))"
      ]
     },
     "execution_count": 2,
     "metadata": {},
     "output_type": "execute_result"
    }
   ],
   "source": [
    "df.shape,test_df.shape"
   ]
  },
  {
   "cell_type": "markdown",
   "id": "cab1b635",
   "metadata": {},
   "source": [
    "If for any column(s), the variance is equal to zero, then you need to remove those variable(s)."
   ]
  },
  {
   "cell_type": "code",
   "execution_count": 3,
   "id": "c4a32db4",
   "metadata": {},
   "outputs": [],
   "source": [
    "from pandas.api.types import is_numeric_dtype\n",
    "import statistics\n",
    "\n",
    "# Define X as the dataframe to be used for modelling.\n",
    "X=df\n",
    "test_df_reformed=test_df"
   ]
  },
  {
   "cell_type": "code",
   "execution_count": 4,
   "id": "cefaf5ca",
   "metadata": {},
   "outputs": [
    {
     "name": "stdout",
     "output_type": "stream",
     "text": [
      "Dropped column :  X11\n",
      "Dropped column :  X93\n",
      "Dropped column :  X107\n",
      "Dropped column :  X233\n",
      "Dropped column :  X235\n",
      "Dropped column :  X268\n",
      "Dropped column :  X289\n",
      "Dropped column :  X290\n",
      "Dropped column :  X293\n",
      "Dropped column :  X297\n",
      "Dropped column :  X330\n",
      "Dropped column :  X347\n"
     ]
    }
   ],
   "source": [
    "for col in df.columns:    \n",
    "    if is_numeric_dtype(df[col]):        \n",
    "        if(statistics.variance(df[col])==0):\n",
    "            X=X.drop(columns=[col])\n",
    "            test_df_reformed=test_df_reformed.drop(columns=[col])\n",
    "            print(\"Dropped column : \",col)"
   ]
  },
  {
   "cell_type": "markdown",
   "id": "e436f8a9",
   "metadata": {},
   "source": [
    "Drop the target colum 'y' and 'ID' from X "
   ]
  },
  {
   "cell_type": "code",
   "execution_count": 5,
   "id": "8350dfc4",
   "metadata": {},
   "outputs": [],
   "source": [
    "X=X.drop(columns=['y','ID'])\n",
    "y=df['y']\n",
    "test_df_reformed.drop(columns=['ID'],inplace=True)"
   ]
  },
  {
   "cell_type": "code",
   "execution_count": 6,
   "id": "71755592",
   "metadata": {},
   "outputs": [
    {
     "data": {
      "text/plain": [
       "((4209, 364), (4209,), (4209, 364))"
      ]
     },
     "execution_count": 6,
     "metadata": {},
     "output_type": "execute_result"
    }
   ],
   "source": [
    "X.shape,y.shape,test_df_reformed.shape"
   ]
  },
  {
   "cell_type": "markdown",
   "id": "93a18ecb",
   "metadata": {},
   "source": [
    "Check for null values for test and train sets."
   ]
  },
  {
   "cell_type": "code",
   "execution_count": 7,
   "id": "39d511ed",
   "metadata": {},
   "outputs": [],
   "source": [
    "def isNullCheck_DF(dframe):\n",
    "    for col in dframe.columns:    \n",
    "        if is_numeric_dtype(dframe[col]):\n",
    "\n",
    "            if(( dframe[col].isnull().sum())>0):\n",
    "                print(col)"
   ]
  },
  {
   "cell_type": "code",
   "execution_count": 8,
   "id": "cbe4fd56",
   "metadata": {},
   "outputs": [],
   "source": [
    "isNullCheck_DF(X)"
   ]
  },
  {
   "cell_type": "code",
   "execution_count": 9,
   "id": "2474bf84",
   "metadata": {},
   "outputs": [],
   "source": [
    "isNullCheck_DF(test_df_reformed)"
   ]
  },
  {
   "cell_type": "markdown",
   "id": "2db44c46",
   "metadata": {},
   "source": [
    "Check for unique values for test and train sets."
   ]
  },
  {
   "cell_type": "code",
   "execution_count": 10,
   "id": "c7e05b03",
   "metadata": {
    "scrolled": true
   },
   "outputs": [
    {
     "name": "stdout",
     "output_type": "stream",
     "text": [
      "X0 ['k' 'az' 't' 'al' 'o' 'w' 'j' 'h' 's' 'n' 'ay' 'f' 'x' 'y' 'aj' 'ak' 'am'\n",
      " 'z' 'q' 'at' 'ap' 'v' 'af' 'a' 'e' 'ai' 'd' 'aq' 'c' 'aa' 'ba' 'as' 'i'\n",
      " 'r' 'b' 'ax' 'bc' 'u' 'ad' 'au' 'm' 'l' 'aw' 'ao' 'ac' 'g' 'ab']\n",
      "X1 ['v' 't' 'w' 'b' 'r' 'l' 's' 'aa' 'c' 'a' 'e' 'h' 'z' 'j' 'o' 'u' 'p' 'n'\n",
      " 'i' 'y' 'd' 'f' 'm' 'k' 'g' 'q' 'ab']\n",
      "X2 ['at' 'av' 'n' 'e' 'as' 'aq' 'r' 'ai' 'ak' 'm' 'a' 'k' 'ae' 's' 'f' 'd'\n",
      " 'ag' 'ay' 'ac' 'ap' 'g' 'i' 'aw' 'y' 'b' 'ao' 'al' 'h' 'x' 'au' 't' 'an'\n",
      " 'z' 'ah' 'p' 'am' 'j' 'q' 'af' 'l' 'aa' 'c' 'o' 'ar']\n",
      "X3 ['a' 'e' 'c' 'f' 'd' 'b' 'g']\n",
      "X4 ['d' 'b' 'c' 'a']\n",
      "X5 ['u' 'y' 'x' 'h' 'g' 'f' 'j' 'i' 'd' 'c' 'af' 'ag' 'ab' 'ac' 'ad' 'ae'\n",
      " 'ah' 'l' 'k' 'n' 'm' 'p' 'q' 's' 'r' 'v' 'w' 'o' 'aa']\n",
      "X6 ['j' 'l' 'd' 'h' 'i' 'a' 'g' 'c' 'k' 'e' 'f' 'b']\n",
      "X8 ['o' 'x' 'e' 'n' 's' 'a' 'h' 'p' 'm' 'k' 'd' 'i' 'v' 'j' 'b' 'q' 'w' 'g'\n",
      " 'y' 'l' 'f' 'u' 'r' 't' 'c']\n"
     ]
    }
   ],
   "source": [
    "for col in X.columns:\n",
    "    \n",
    "    if (X[col].dtypes=='O'):               \n",
    "        print(col,X[col].unique())"
   ]
  },
  {
   "cell_type": "code",
   "execution_count": 11,
   "id": "a76d17a0",
   "metadata": {},
   "outputs": [
    {
     "name": "stdout",
     "output_type": "stream",
     "text": [
      "X0 ['az' 't' 'w' 'y' 'x' 'f' 'ap' 'o' 'ay' 'al' 'h' 'z' 'aj' 'd' 'v' 'ak'\n",
      " 'ba' 'n' 'j' 's' 'af' 'ax' 'at' 'aq' 'av' 'm' 'k' 'a' 'e' 'ai' 'i' 'ag'\n",
      " 'b' 'am' 'aw' 'as' 'r' 'ao' 'u' 'l' 'c' 'ad' 'au' 'bc' 'g' 'an' 'ae' 'p'\n",
      " 'bb']\n",
      "X1 ['v' 'b' 'l' 's' 'aa' 'r' 'a' 'i' 'p' 'c' 'o' 'm' 'z' 'e' 'h' 'w' 'g' 'k'\n",
      " 'y' 't' 'u' 'd' 'j' 'q' 'n' 'f' 'ab']\n",
      "X2 ['n' 'ai' 'as' 'ae' 's' 'b' 'e' 'ak' 'm' 'a' 'aq' 'ag' 'r' 'k' 'aj' 'ay'\n",
      " 'ao' 'an' 'ac' 'af' 'ax' 'h' 'i' 'f' 'ap' 'p' 'au' 't' 'z' 'y' 'aw' 'd'\n",
      " 'at' 'g' 'am' 'j' 'x' 'ab' 'w' 'q' 'ah' 'ad' 'al' 'av' 'u']\n",
      "X3 ['f' 'a' 'c' 'e' 'd' 'g' 'b']\n",
      "X4 ['d' 'b' 'a' 'c']\n",
      "X5 ['t' 'b' 'a' 'z' 'y' 'x' 'h' 'g' 'f' 'j' 'i' 'd' 'c' 'af' 'ag' 'ab' 'ac'\n",
      " 'ad' 'ae' 'ah' 'l' 'k' 'n' 'm' 'p' 'q' 's' 'r' 'v' 'w' 'o' 'aa']\n",
      "X6 ['a' 'g' 'j' 'l' 'i' 'd' 'f' 'h' 'c' 'k' 'e' 'b']\n",
      "X8 ['w' 'y' 'j' 'n' 'm' 's' 'a' 'v' 'r' 'o' 't' 'h' 'c' 'k' 'p' 'u' 'd' 'g'\n",
      " 'b' 'q' 'e' 'l' 'f' 'i' 'x']\n"
     ]
    }
   ],
   "source": [
    "for col in test_df_reformed.columns:\n",
    "    \n",
    "    if (test_df_reformed[col].dtypes=='O'):               \n",
    "        print(col,test_df_reformed[col].unique())"
   ]
  },
  {
   "cell_type": "markdown",
   "id": "a7b8c4ce",
   "metadata": {},
   "source": [
    "Apply label encoder"
   ]
  },
  {
   "cell_type": "code",
   "execution_count": 12,
   "id": "f48e6c02",
   "metadata": {},
   "outputs": [],
   "source": [
    "from sklearn.preprocessing import LabelEncoder\n",
    "\n",
    "#For every column of object type, get the list of all values from X and test dataframe and fit using the this list.\n",
    "\n",
    "for col in X.columns:\n",
    "    if X[col].dtype == 'object':\n",
    "        lbl = LabelEncoder() \n",
    "        lbl.fit(list(X[col].values) + list(test_df_reformed[col].values)) \n",
    "        X[col] = lbl.transform(list(X[col].values))\n",
    "        test_df_reformed[col] = lbl.transform(list(test_df_reformed[col].values))\n"
   ]
  },
  {
   "cell_type": "code",
   "execution_count": 13,
   "id": "d5138543",
   "metadata": {},
   "outputs": [
    {
     "data": {
      "text/plain": [
       "((4209, 364), (4209, 364))"
      ]
     },
     "execution_count": 13,
     "metadata": {},
     "output_type": "execute_result"
    }
   ],
   "source": [
    "X.shape,test_df_reformed.shape"
   ]
  },
  {
   "cell_type": "markdown",
   "id": "9cd43c41",
   "metadata": {},
   "source": [
    "Check for null  values for test and train sets"
   ]
  },
  {
   "cell_type": "code",
   "execution_count": 14,
   "id": "3615aaa5",
   "metadata": {},
   "outputs": [
    {
     "data": {
      "text/plain": [
       "False"
      ]
     },
     "execution_count": 14,
     "metadata": {},
     "output_type": "execute_result"
    }
   ],
   "source": [
    "X.isnull().sum().any()"
   ]
  },
  {
   "cell_type": "code",
   "execution_count": 15,
   "id": "37f3ae79",
   "metadata": {},
   "outputs": [
    {
     "data": {
      "text/plain": [
       "False"
      ]
     },
     "execution_count": 15,
     "metadata": {},
     "output_type": "execute_result"
    }
   ],
   "source": [
    "test_df_reformed.isnull().sum().any()"
   ]
  },
  {
   "cell_type": "markdown",
   "id": "e5cddb03",
   "metadata": {},
   "source": [
    "Perform dimensionality reduction"
   ]
  },
  {
   "cell_type": "code",
   "execution_count": 16,
   "id": "bbcb07af",
   "metadata": {},
   "outputs": [],
   "source": [
    "from sklearn.model_selection import train_test_split\n",
    "from sklearn.metrics import r2_score,mean_squared_error\n",
    "\n",
    "from sklearn.decomposition import PCA\n",
    "from sklearn.model_selection import cross_val_score,KFold,RepeatedKFold\n"
   ]
  },
  {
   "cell_type": "code",
   "execution_count": 17,
   "id": "fb98275a",
   "metadata": {},
   "outputs": [],
   "source": [
    "pca= PCA(n_components=20)\n",
    "X=pca.fit_transform(X)\n"
   ]
  },
  {
   "cell_type": "markdown",
   "id": "05b47a82",
   "metadata": {},
   "source": [
    "Perform model fitting"
   ]
  },
  {
   "cell_type": "code",
   "execution_count": 18,
   "id": "f82d7da6",
   "metadata": {},
   "outputs": [],
   "source": [
    "from xgboost import XGBRegressor"
   ]
  },
  {
   "cell_type": "markdown",
   "id": "015e44cb",
   "metadata": {},
   "source": [
    "Perform hyperparameter tuning by selecting different values."
   ]
  },
  {
   "cell_type": "code",
   "execution_count": 19,
   "id": "a1a30f0e",
   "metadata": {},
   "outputs": [
    {
     "name": "stdout",
     "output_type": "stream",
     "text": [
      "cross val score:  0.5306865875044984\n"
     ]
    }
   ],
   "source": [
    "seed=42\n",
    "model = XGBRegressor(min_child_weight=1,\n",
    "                     gamma=0.4,subsample=0.6, \n",
    "                     colsample_bytree = 1 ,\n",
    "                     n_estimators=300,random_state=seed,\n",
    "                     learning_rate=0.025,max_depth=5, alpha=100,reg_lambda=0)\n",
    "\n",
    "#cv = RepeatedKFold(n_splits=10, n_repeats=3, random_state=seed)    #49.9\n",
    "\n",
    "cv = KFold(n_splits=10)   #51.0 w/o shuffle with 10 split. with shuffle-50.61\n",
    "scores = cross_val_score(model, X, y, scoring='r2', cv=cv, n_jobs=-1)\n",
    "\n",
    "print( \"cross val score: \",scores.mean())"
   ]
  },
  {
   "cell_type": "markdown",
   "id": "b1db8cf3",
   "metadata": {},
   "source": [
    "For the different values used, the max r2 score was 0.53 for the below model"
   ]
  },
  {
   "cell_type": "code",
   "execution_count": 20,
   "id": "a498d30c",
   "metadata": {},
   "outputs": [
    {
     "data": {
      "text/plain": [
       "XGBRegressor(alpha=100, base_score=None, booster=None, colsample_bylevel=None,\n",
       "             colsample_bynode=None, colsample_bytree=1,\n",
       "             enable_categorical=False, gamma=0.4, gpu_id=None,\n",
       "             importance_type=None, interaction_constraints=None,\n",
       "             learning_rate=0.025, max_delta_step=None, max_depth=5,\n",
       "             min_child_weight=1, missing=nan, monotone_constraints=None,\n",
       "             n_estimators=300, n_jobs=None, num_parallel_tree=None,\n",
       "             predictor=None, random_state=42, reg_alpha=None, reg_lambda=0,\n",
       "             scale_pos_weight=None, subsample=0.6, tree_method=None,\n",
       "             validate_parameters=None, verbosity=None)"
      ]
     },
     "execution_count": 20,
     "metadata": {},
     "output_type": "execute_result"
    }
   ],
   "source": [
    "model"
   ]
  },
  {
   "cell_type": "code",
   "execution_count": 21,
   "id": "1c99ad18",
   "metadata": {},
   "outputs": [
    {
     "data": {
      "text/plain": [
       "XGBRegressor(alpha=100, base_score=0.5, booster='gbtree', colsample_bylevel=1,\n",
       "             colsample_bynode=1, colsample_bytree=1, enable_categorical=False,\n",
       "             gamma=0.4, gpu_id=-1, importance_type=None,\n",
       "             interaction_constraints='', learning_rate=0.025, max_delta_step=0,\n",
       "             max_depth=5, min_child_weight=1, missing=nan,\n",
       "             monotone_constraints='()', n_estimators=300, n_jobs=4,\n",
       "             num_parallel_tree=1, predictor='auto', random_state=42,\n",
       "             reg_alpha=100, reg_lambda=0, scale_pos_weight=1, subsample=0.6,\n",
       "             tree_method='exact', validate_parameters=1, verbosity=None)"
      ]
     },
     "execution_count": 21,
     "metadata": {},
     "output_type": "execute_result"
    }
   ],
   "source": [
    "#Fit the model on train data\n",
    "model.fit(X,y)"
   ]
  },
  {
   "cell_type": "markdown",
   "id": "f91ad26d",
   "metadata": {},
   "source": [
    "Predict your test_df values using XGBoost."
   ]
  },
  {
   "cell_type": "code",
   "execution_count": 22,
   "id": "85289d3a",
   "metadata": {},
   "outputs": [
    {
     "data": {
      "text/plain": [
       "(4209, 364)"
      ]
     },
     "execution_count": 22,
     "metadata": {},
     "output_type": "execute_result"
    }
   ],
   "source": [
    "test_df_reformed.shape"
   ]
  },
  {
   "cell_type": "code",
   "execution_count": 23,
   "id": "688cf202",
   "metadata": {},
   "outputs": [
    {
     "data": {
      "text/plain": [
       "(4209, 20)"
      ]
     },
     "execution_count": 23,
     "metadata": {},
     "output_type": "execute_result"
    }
   ],
   "source": [
    "#Apply dimensionality reduction on test data \n",
    "\n",
    "test_pca=pca.transform(test_df_reformed)\n",
    "test_pca.shape"
   ]
  },
  {
   "cell_type": "code",
   "execution_count": 24,
   "id": "4d4d94e9",
   "metadata": {},
   "outputs": [],
   "source": [
    "# Predict the values using the model\n",
    "predictions=model.predict(test_pca)"
   ]
  },
  {
   "cell_type": "code",
   "execution_count": 25,
   "id": "d3faf26a",
   "metadata": {},
   "outputs": [
    {
     "data": {
      "text/plain": [
       "array([ 77.07485 ,  93.93544 ,  79.62424 , ...,  91.88423 , 106.746796,\n",
       "        97.49657 ], dtype=float32)"
      ]
     },
     "execution_count": 25,
     "metadata": {},
     "output_type": "execute_result"
    }
   ],
   "source": [
    "predictions"
   ]
  },
  {
   "cell_type": "markdown",
   "id": "1dc9722e",
   "metadata": {},
   "source": [
    "Save the predictions to a csv file"
   ]
  },
  {
   "cell_type": "code",
   "execution_count": 26,
   "id": "38f5562d",
   "metadata": {},
   "outputs": [],
   "source": [
    "test_results=pd.DataFrame()\n",
    "test_results['ID']=test_df['ID']\n",
    "test_results['y']=predictions\n",
    "test_results.set_index('ID',inplace=True)\n",
    "test_results.to_csv('TestPredictions1.csv')"
   ]
  },
  {
   "cell_type": "code",
   "execution_count": 27,
   "id": "bdd3b1a9",
   "metadata": {},
   "outputs": [
    {
     "name": "stdout",
     "output_type": "stream",
     "text": [
      "<class 'pandas.core.frame.DataFrame'>\n",
      "Int64Index: 4209 entries, 1 to 8416\n",
      "Data columns (total 1 columns):\n",
      " #   Column  Non-Null Count  Dtype  \n",
      "---  ------  --------------  -----  \n",
      " 0   y       4209 non-null   float32\n",
      "dtypes: float32(1)\n",
      "memory usage: 49.3 KB\n"
     ]
    }
   ],
   "source": [
    "test_results.info()"
   ]
  },
  {
   "cell_type": "markdown",
   "id": "7b1f4e60",
   "metadata": {},
   "source": [
    "Testing the accuracy of the model using the \"train data\" alone "
   ]
  },
  {
   "cell_type": "code",
   "execution_count": 28,
   "id": "57b70d87",
   "metadata": {},
   "outputs": [
    {
     "data": {
      "text/plain": [
       "((3156, 20), (1053, 20), (3156,), (1053,))"
      ]
     },
     "execution_count": 28,
     "metadata": {},
     "output_type": "execute_result"
    }
   ],
   "source": [
    "#trying to test with traindata\n",
    "\n",
    "x_train,x_test,y_train,y_test=train_test_split(X,y)\n",
    "x_train.shape,x_test.shape,y_train.shape,y_test.shape"
   ]
  },
  {
   "cell_type": "code",
   "execution_count": 29,
   "id": "9e79ed0c",
   "metadata": {},
   "outputs": [
    {
     "name": "stdout",
     "output_type": "stream",
     "text": [
      "r2 score for x_train which is part of train data  0.6528218297735064\n",
      "rmse score for x_train which is part of test data  7.430495124663904\n"
     ]
    }
   ],
   "source": [
    "import numpy as np\n",
    "from math import sqrt\n",
    "y_pred=model.predict(x_train)\n",
    "print(\"r2 score for x_train which is part of train data \",r2_score(y_train,y_pred))\n",
    "print(\"rmse score for x_train which is part of test data \",\n",
    "      sqrt(mean_squared_error(y_train,y_pred)))"
   ]
  },
  {
   "cell_type": "code",
   "execution_count": 30,
   "id": "a6c1a623",
   "metadata": {},
   "outputs": [
    {
     "name": "stdout",
     "output_type": "stream",
     "text": [
      "r2 score for x_train which is part of test data  0.6202384839766202\n",
      "rmse score for x_train which is part of test data  7.935208780792373\n"
     ]
    }
   ],
   "source": [
    "y_pred=model.predict(x_test)\n",
    "print(\"r2 score for x_train which is part of test data \",r2_score(y_test,y_pred))\n",
    "\n",
    "print(\"rmse score for x_train which is part of test data \",\n",
    "      sqrt(mean_squared_error(y_test,y_pred)))"
   ]
  }
 ],
 "metadata": {
  "kernelspec": {
   "display_name": "Python 3 (ipykernel)",
   "language": "python",
   "name": "python3"
  },
  "language_info": {
   "codemirror_mode": {
    "name": "ipython",
    "version": 3
   },
   "file_extension": ".py",
   "mimetype": "text/x-python",
   "name": "python",
   "nbconvert_exporter": "python",
   "pygments_lexer": "ipython3",
   "version": "3.9.7"
  }
 },
 "nbformat": 4,
 "nbformat_minor": 5
}
