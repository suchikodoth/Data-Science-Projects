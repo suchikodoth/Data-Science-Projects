{
 "cells": [
  {
   "cell_type": "markdown",
   "id": "73b80827",
   "metadata": {},
   "source": [
    "# Pet Classification Model Using CNN.\n",
    "Project 3 \n",
    "\n",
    "DESCRIPTION\n",
    "\n",
    "Project Objective:\n",
    "\n",
    "\n",
    "Build a CNN model that classifies the given pet images correctly into dog and cat images. \n",
    "The project scope document specifies the requirements for the project “Pet Classification Model Using CNN.” Apart from specifying the functional and non-functional requirements for the project, it also serves as an input for project scoping. \n",
    "\n",
    "\n",
    "Project Description and Scope: \n",
    "\n",
    "\n",
    "You are provided with a collection of images of pets, that is, cats and dogs. These images are of different sizes with varied lighting conditions and they should be used as inputs for your model.\n",
    "\n",
    "You are expected to write the code for CNN image classification model using TensorFlow that trains on the data and calculates the accuracy score on the test data. \n",
    "\n",
    "\n",
    "Project Guidelines:\n",
    "\n",
    "\n",
    "Begin by creating the ipynb file in the same parent folder where the downloaded data set is kept. The CNN model should have the following layers: \n",
    "● Input layer \n",
    "● Convolutional layer 1 with 32 filters of kernel size[5,5] \n",
    "● Pooling layer 1 with pool size[2,2] and stride 2 \n",
    "● Convolutional layer 2 with 64 filters of kernel size[5,5] \n",
    "● Pooling layer 2 with pool size[2,2] and stride 2 \n",
    "● Dense layer whose output size is fixed in the hyper parameter: fc_size=32 \n",
    "● Dropout layer with dropout probability 0.4 \n",
    "Predict the class by doing a softmax on the output of the dropout layers. \n",
    "This should be followed by training and evaluation: \n",
    "● For the training step, define the loss function and minimize it \n",
    "● For the evaluation step, calculate the accuracy \n",
    "Run the program for 100, 200, and 300 iterations, respectively. Follow this by a report on the final accuracy and loss on the evaluation data. \n",
    "\n"
   ]
  },
  {
   "cell_type": "markdown",
   "id": "05303eb9",
   "metadata": {},
   "source": [
    "Import the required libraries and locate the train and test images."
   ]
  },
  {
   "cell_type": "code",
   "execution_count": 1,
   "id": "1826b77a",
   "metadata": {},
   "outputs": [],
   "source": [
    "import numpy as np\n",
    "import pandas as pd"
   ]
  },
  {
   "cell_type": "code",
   "execution_count": 2,
   "id": "15a8ceda",
   "metadata": {},
   "outputs": [],
   "source": [
    "path_to_train_data='./data/train'"
   ]
  },
  {
   "cell_type": "code",
   "execution_count": 3,
   "id": "b011a880",
   "metadata": {},
   "outputs": [],
   "source": [
    "import os\n",
    "img_dirs=[]\n",
    "for entry in os.scandir(path_to_train_data):\n",
    "    if entry.is_dir():\n",
    "        img_dirs.append(entry.path)"
   ]
  },
  {
   "cell_type": "code",
   "execution_count": 4,
   "id": "f9135205",
   "metadata": {},
   "outputs": [
    {
     "data": {
      "text/plain": [
       "['./data/train\\\\cats', './data/train\\\\dogs']"
      ]
     },
     "execution_count": 4,
     "metadata": {},
     "output_type": "execute_result"
    }
   ],
   "source": [
    "img_dirs"
   ]
  },
  {
   "cell_type": "markdown",
   "id": "c3f85194",
   "metadata": {},
   "source": [
    "Import required libraries for image preprocessing"
   ]
  },
  {
   "cell_type": "code",
   "execution_count": 5,
   "id": "b822a9bc",
   "metadata": {},
   "outputs": [],
   "source": [
    "from os import listdir\n",
    "from os.path import join\n",
    "from numpy import asarray"
   ]
  },
  {
   "cell_type": "code",
   "execution_count": null,
   "id": "6bf4a77b",
   "metadata": {},
   "outputs": [],
   "source": [
    "from keras.preprocessing.image import load_img\n",
    "from keras.preprocessing.image import img_to_array"
   ]
  },
  {
   "cell_type": "markdown",
   "id": "8cd8d19e",
   "metadata": {},
   "source": [
    "Method to pick images and convert into numeric data and label them."
   ]
  },
  {
   "cell_type": "code",
   "execution_count": null,
   "id": "336a1208",
   "metadata": {},
   "outputs": [],
   "source": [
    "def preparedata(folder):\n",
    "    animals_df=pd.DataFrame(columns=['image_data','animal_name'])\n",
    "    image_data=[]\n",
    "    labels=[]\n",
    "    animal_series=pd.DataFrame()\n",
    "    \n",
    "    img_dirs=[]\n",
    "    for entry in os.scandir(folder):\n",
    "        if entry.is_dir():\n",
    "            img_dirs.append(entry.path)\n",
    "\n",
    "    for img_dir in img_dirs:\n",
    "        print(img_dir)\n",
    "        animal_name=img_dir.split('\\\\')[-1]\n",
    "        print(animal_name)\n",
    "        for image in listdir(img_dir):\n",
    "\n",
    "            \n",
    "            \n",
    "            img=load_img(join(img_dir,image),target_size=(200,200,3))\n",
    "           \n",
    "            image_data.append(img_to_array(img)/255)\n",
    "           \n",
    "            if(animal_name=='cats'):\n",
    "                labels.append(0)\n",
    "            else:\n",
    "                labels.append(1)\n",
    "\n",
    "         \n",
    "    image_array=asarray(image_data)\n",
    "    labels_array=asarray(labels)\n",
    "    image_array.shape,labels_array.shape\n",
    "    return image_array,labels_array"
   ]
  },
  {
   "cell_type": "markdown",
   "id": "053981b8",
   "metadata": {},
   "source": [
    "Load the train and test data"
   ]
  },
  {
   "cell_type": "code",
   "execution_count": null,
   "id": "87b7eaa3",
   "metadata": {},
   "outputs": [],
   "source": [
    "image_array,labels_array=preparedata('./data/train')"
   ]
  },
  {
   "cell_type": "code",
   "execution_count": null,
   "id": "89329739",
   "metadata": {},
   "outputs": [],
   "source": [
    "test_imagedata,test_labels=preparedata('./data/test')"
   ]
  },
  {
   "cell_type": "markdown",
   "id": "106c7bb8",
   "metadata": {},
   "source": [
    "Import libraries for defining the CNN layers"
   ]
  },
  {
   "cell_type": "code",
   "execution_count": null,
   "id": "e502e59f",
   "metadata": {},
   "outputs": [],
   "source": [
    "import keras\n",
    "from tensorflow.keras.optimizers import SGD\n",
    "from sklearn.model_selection import train_test_split"
   ]
  },
  {
   "cell_type": "code",
   "execution_count": null,
   "id": "06779145",
   "metadata": {},
   "outputs": [],
   "source": [
    "from keras.models import Sequential"
   ]
  },
  {
   "cell_type": "code",
   "execution_count": null,
   "id": "ec52f147",
   "metadata": {},
   "outputs": [],
   "source": [
    "from keras.layers import Dense, Conv2D, Flatten,MaxPooling2D,Dropout"
   ]
  },
  {
   "cell_type": "markdown",
   "id": "3605d02b",
   "metadata": {},
   "source": [
    "Define a method for model creation as per project specifications"
   ]
  },
  {
   "cell_type": "code",
   "execution_count": null,
   "id": "54f98e20",
   "metadata": {},
   "outputs": [],
   "source": [
    "def createmodel():\n",
    "    model=Sequential()\n",
    "    model.add(Conv2D(32, kernel_size=[5,5], activation='relu', input_shape=(200,200,3))) \n",
    "    model.add(MaxPooling2D(pool_size=(2,2),strides=2))\n",
    "    model.add(Conv2D(64, kernel_size=[5,5], activation='relu'))\n",
    "    model.add(MaxPooling2D(pool_size=(2,2),strides=2))\n",
    "    model.add(Dense(32,activation='relu'))\n",
    "    model.add(Flatten())\n",
    "    model.add(Dropout(0.4))\n",
    "\n",
    "    model.add(Dense(1,activation='sigmoid'))\n",
    "    opt = SGD(learning_rate=0.001, momentum=0.9)\n",
    "    model.compile(optimizer=opt,loss='binary_crossentropy',metrics=['accuracy'])\n",
    "    model.summary()\n",
    "    return model"
   ]
  },
  {
   "cell_type": "markdown",
   "id": "59b25e00",
   "metadata": {},
   "source": [
    "Create a model and fit with 100 epochs"
   ]
  },
  {
   "cell_type": "code",
   "execution_count": null,
   "id": "3809520d",
   "metadata": {},
   "outputs": [],
   "source": [
    "model_100epochs=createmodel()"
   ]
  },
  {
   "cell_type": "code",
   "execution_count": null,
   "id": "e3a89e97",
   "metadata": {},
   "outputs": [],
   "source": [
    "history_100_epochs=model_100epochs.fit(image_array,labels_array,epochs=100)"
   ]
  },
  {
   "cell_type": "code",
   "execution_count": null,
   "id": "a21a9475",
   "metadata": {},
   "outputs": [],
   "source": [
    "test_100_epochs=model_100epochs.evaluate(test_imagedata,test_labels,verbose=1)"
   ]
  },
  {
   "cell_type": "markdown",
   "id": "32001463",
   "metadata": {},
   "source": [
    "Create a new model with same layers to test for 200 epochs"
   ]
  },
  {
   "cell_type": "code",
   "execution_count": null,
   "id": "9d420409",
   "metadata": {},
   "outputs": [],
   "source": [
    "model_200epochs=createmodel()\n",
    "history_200_epochs=model_200epochs.fit(image_array,labels_array,epochs=200)\n",
    "test_200_epochs=model_200epochs.evaluate(test_imagedata,test_labels)"
   ]
  },
  {
   "cell_type": "markdown",
   "id": "69433698",
   "metadata": {},
   "source": [
    "Create a new model with same layers to test for 300 epochs"
   ]
  },
  {
   "cell_type": "code",
   "execution_count": null,
   "id": "3e335820",
   "metadata": {},
   "outputs": [],
   "source": [
    "model_300epochs=createmodel()\n",
    "history_300_epochs=model_300epochs.fit(image_array,labels_array,epochs=300)\n",
    "test_300_epochs=model_300epochs.evaluate(test_imagedata,test_labels)"
   ]
  },
  {
   "cell_type": "markdown",
   "id": "c94b4cf5",
   "metadata": {},
   "source": [
    "Visualise the accuracy and loss for 100,200 and 300 iterations"
   ]
  },
  {
   "cell_type": "code",
   "execution_count": null,
   "id": "be9feb60",
   "metadata": {},
   "outputs": [],
   "source": [
    "from matplotlib import pyplot\n",
    "def summarize_diagnostics(history_train,history_test):\n",
    "# plot loss\n",
    "    fig = pyplot.figure(figsize=(8,8))  \n",
    "    pyplot.subplot(211)\n",
    "    pyplot.title('Cross Entropy Loss')\n",
    "    pyplot.plot(history_train.history['loss'], color='blue', label='train')\n",
    "    pyplot.plot(history_test[1], color='orange', label='test')\n",
    "    \n",
    "    pyplot.legend()\n",
    "    \n",
    "    # plot accuracy\n",
    "    pyplot.subplot(212)\n",
    "    pyplot.title('Classification Accuracy')\n",
    "    pyplot.plot(history_train.history['accuracy'], color='blue', label='train')\n",
    "    pyplot.plot(history_test[1], color='orange', label='test')\n",
    "    \n",
    "    pyplot.legend()   \n",
    "    pyplot.tight_layout()\n",
    "    pyplot.show()"
   ]
  },
  {
   "cell_type": "code",
   "execution_count": null,
   "id": "4deb7539",
   "metadata": {},
   "outputs": [],
   "source": [
    "summarize_diagnostics(history_100_epochs,test_100_epochs)"
   ]
  },
  {
   "cell_type": "code",
   "execution_count": null,
   "id": "349dd480",
   "metadata": {},
   "outputs": [],
   "source": [
    "summarize_diagnostics(history_200_epochs,test_200_epochs)"
   ]
  },
  {
   "cell_type": "code",
   "execution_count": null,
   "id": "9242ff80",
   "metadata": {},
   "outputs": [],
   "source": [
    "summarize_diagnostics(history_300_epochs,test_300_epochs)"
   ]
  },
  {
   "cell_type": "markdown",
   "id": "79a53fd8",
   "metadata": {},
   "source": [
    "Compare the accuracy from three models( 100,200,300 iterations each)"
   ]
  },
  {
   "cell_type": "code",
   "execution_count": null,
   "id": "6aff2c0c",
   "metadata": {},
   "outputs": [],
   "source": [
    "print(\"Accuracy on test data with 100 epochs: \",round(test_100_epochs[1],2),\" Loss:\",round(test_100_epochs[0],2))\n",
    "print(\"Accuracy on test data with 200 epochs: \",round(test_200_epochs[1],2),\" Loss:\",round(test_200_epochs[0],2))\n",
    "print(\"Accuracy on test data with 300 epochs: \",round(test_300_epochs[1],2),\" Loss:\",round(test_300_epochs[0],2))"
   ]
  }
 ],
 "metadata": {
  "kernelspec": {
   "display_name": "Python 3 (ipykernel)",
   "language": "python",
   "name": "python3"
  },
  "language_info": {
   "codemirror_mode": {
    "name": "ipython",
    "version": 3
   },
   "file_extension": ".py",
   "mimetype": "text/x-python",
   "name": "python",
   "nbconvert_exporter": "python",
   "pygments_lexer": "ipython3",
   "version": "3.9.7"
  }
 },
 "nbformat": 4,
 "nbformat_minor": 5
}
